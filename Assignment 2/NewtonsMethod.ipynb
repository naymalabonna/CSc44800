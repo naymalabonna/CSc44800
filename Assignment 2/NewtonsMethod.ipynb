{
 "cells": [
  {
   "cell_type": "markdown",
   "metadata": {},
   "source": [
    "#### Abstract\n",
    "\n",
    "This notebook contains code to perform Newton’s Method. Newton's Method is used to approximate the solution of a nonlinear equation such that f(x)=0, which is essentially finding the root of the function by using differentiation. The equation for it is $x_{n+1} = x_n - \\frac{f(x_n)}{f'(x_n)}$. This equation generates a sequence, where if the sequence converges it approaches a root of f(x). \n"
   ]
  },
  {
   "cell_type": "markdown",
   "metadata": {},
   "source": [
    "#### Explanation\n",
    "\n",
    "Newton's Method can be applied to many other functions, but for this program I chose $f(x) = x^2-9$. I started off the program by defining \"function\" to hold my chosen $f(x)$, and another function \"derivative\" to hold $f'(x)$, which would be $2x$."
   ]
  },
  {
   "cell_type": "markdown",
   "metadata": {},
   "source": [
    "Next, I define the function \"newton\" which has the following parameters: function (referring to the previously defined $f(x)$, derivative (referring to the defined $f'(x)$, x0 (which will be the first number to start off the sequence, also known as our initial guess), tol (tolerance), and finally, max_iter=100 (which determines the maximum number of iterations). The variable x1 which will hold the approximate root value is then initialized to 0, and n is initialized to 1, which is the number of iteration. "
   ]
  },
  {
   "cell_type": "markdown",
   "metadata": {},
   "source": [
    "The while loop runs for as many iterations are necessary to reach the tolerance value, or until the maximum iteration number is reached. x1 = x0 - (function(x0)/derivative(x0)) is essentially Newton's formula, which is applied during every iteration. After this calculation, the iteration numbers (n), approximations (x1), and absolute error values are printed. The following if statement allows the while loop to stop after the tolerance is reached."
   ]
  },
  {
   "cell_type": "markdown",
   "metadata": {},
   "source": [
    "Finally, the function newton is called to determine the root value for $f(x) = x^2-9$ with an $x_0$ value of 1, and a tolerance of $10^{-8}$. The following table shows the results of this program: "
   ]
  },
  {
   "cell_type": "markdown",
   "metadata": {},
   "source": [
    "| Iteration | Root | Absolute Error |\n",
    "| :-: | :-: | :-: |\n",
    "| 1 | 5.0 | 2.0 |\n",
    "| 2 | 3.39999999999 | 0.39999999 |\n",
    "| 3 | 3.02352941176 | 0.02352941 |\n",
    "| 4 | 3.00009155413 | 0.00009155 |\n",
    "| 5 | 3.00000000139 | 1.39698E-9 |\n",
    "| 6 | 3.0 | 0.0 |"
   ]
  },
  {
   "cell_type": "markdown",
   "metadata": {},
   "source": [
    "The root of the function is 3.0 and was reached after 6 iterations with an absolute error value of 0. It is evident in this example that as the number of iterations increases, the root becomes more accurate. This is, however, not always the case and there are several factors that affect the number of iterations and accuracy of the approximation, and Newton's Method also fails in some cases. Even though Newton’s Method does not work in all situations and has its limitations, it is still a good tool to use for approximating the roots of a function and often converges to an accurate (or nearly accurate) solution. \n"
   ]
  },
  {
   "cell_type": "code",
   "execution_count": 32,
   "metadata": {},
   "outputs": [
    {
     "name": "stdout",
     "output_type": "stream",
     "text": [
      "\n",
      "Iteration # 1 \n",
      "Root =  5 \n",
      "Absolute Error =  2\n",
      "\n",
      "Iteration # 2 \n",
      "Root =  3.399999999999999911182158029987476766109466552734375 \n",
      "Absolute Error =  0.399999999999999911182158029987476766109466552734375\n",
      "\n",
      "Iteration # 3 \n",
      "Root =  3.02352941176470579875967814587056636810302734375 \n",
      "Absolute Error =  0.02352941176470579875967814587056636810302734375\n",
      "\n",
      "Iteration # 4 \n",
      "Root =  3.00009155413138017820529057644307613372802734375 \n",
      "Absolute Error =  0.00009155413138017820529057644307613372802734375\n",
      "\n",
      "Iteration # 5 \n",
      "Root =  3.0000000013969838619232177734375 \n",
      "Absolute Error =  1.3969838619232177734375E-9\n",
      "\n",
      "Iteration # 6 \n",
      "Root =  3 \n",
      "Absolute Error =  0\n",
      "\n",
      "The approximate value of x is: 3.0\n"
     ]
    }
   ],
   "source": [
    "from decimal import Decimal\n",
    "\n",
    "def function(x):\n",
    "    return x**2-9\n",
    "\n",
    "def derivative(x):\n",
    "    return 2*x\n",
    "\n",
    "def newton(function, derivative, x0, tol, max_iter=100):\n",
    "    x1 = 0\n",
    "    n = 1\n",
    "    while n <= max_iter:\n",
    "        x1 = x0 - (function(x0)/derivative(x0))\n",
    "        print(\"\\nIteration #\", n, \"\\nRoot = \", Decimal(x1), \"\\nAbsolute Error = \", Decimal(x1-3))\n",
    "        if abs(x0-x1)<= tol and abs((x0-x1)/x0)<= tol:\n",
    "            return x1\n",
    "        x0 = x1\n",
    "        n = n + 1\n",
    "    return x1  \n",
    "\n",
    "approx = newton(function, derivative,1, 10**-8)\n",
    "print(\"\\nThe approximate value of x is: \"+str(approx))"
   ]
  },
  {
   "cell_type": "code",
   "execution_count": null,
   "metadata": {},
   "outputs": [],
   "source": []
  }
 ],
 "metadata": {
  "kernelspec": {
   "display_name": "Python 3 (ipykernel)",
   "language": "python",
   "name": "python3"
  },
  "language_info": {
   "codemirror_mode": {
    "name": "ipython",
    "version": 3
   },
   "file_extension": ".py",
   "mimetype": "text/x-python",
   "name": "python",
   "nbconvert_exporter": "python",
   "pygments_lexer": "ipython3",
   "version": "3.8.6"
  }
 },
 "nbformat": 4,
 "nbformat_minor": 4
}
